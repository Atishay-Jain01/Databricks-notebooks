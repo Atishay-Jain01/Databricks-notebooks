{
 "cells": [
  {
   "cell_type": "code",
   "execution_count": 0,
   "metadata": {
    "application/vnd.databricks.v1+cell": {
     "cellMetadata": {
      "byteLimit": 2048000,
      "rowLimit": 10000
     },
     "inputWidgets": {},
     "nuid": "6fd25749-ab09-41a5-af21-8f21ba416958",
     "showTitle": true,
     "tableResultSettingsMap": {},
     "title": "Price of Monitor"
    }
   },
   "outputs": [
    {
     "output_type": "stream",
     "name": "stdout",
     "output_type": "stream",
     "text": [
      "12000\n"
     ]
    }
   ],
   "source": [
    "products = {\n",
    "    \"Laptop\": 70000,\n",
    "    \"Mouse\": 500,\n",
    "    \"Keyboard\": 1500,\n",
    "    \"Monitor\": 12000\n",
    "}\n",
    "\n",
    "print(products[\"Monitor\"])"
   ]
  },
  {
   "cell_type": "code",
   "execution_count": 0,
   "metadata": {
    "application/vnd.databricks.v1+cell": {
     "cellMetadata": {
      "byteLimit": 2048000,
      "rowLimit": 10000
     },
     "inputWidgets": {},
     "nuid": "6fb6e229-f15e-4f07-a206-9519e3e2a71f",
     "showTitle": true,
     "tableResultSettingsMap": {},
     "title": "Add new product \"Webcam\" & price 3000."
    }
   },
   "outputs": [
    {
     "output_type": "stream",
     "name": "stdout",
     "output_type": "stream",
     "text": [
      "{'Laptop': 70000, 'Mouse': 500, 'Keyboard': 1500, 'Monitor': 12000, 'Webcam': 3000}\n"
     ]
    }
   ],
   "source": [
    "products[\"Webcam\"] = 3000\n",
    "print(products)"
   ]
  },
  {
   "cell_type": "code",
   "execution_count": 0,
   "metadata": {
    "application/vnd.databricks.v1+cell": {
     "cellMetadata": {
      "byteLimit": 2048000,
      "rowLimit": 10000
     },
     "inputWidgets": {},
     "nuid": "ec3b3e88-9cdf-463d-a760-0dabe5312fdd",
     "showTitle": true,
     "tableResultSettingsMap": {},
     "title": "Update price of \"Mouse\" to 550"
    }
   },
   "outputs": [
    {
     "output_type": "stream",
     "name": "stdout",
     "output_type": "stream",
     "text": [
      "{'Laptop': 70000, 'Mouse': 550, 'Keyboard': 1500, 'Monitor': 12000, 'Webcam': 3000}\n"
     ]
    }
   ],
   "source": [
    "products['Mouse'] = 550\n",
    "print(products)"
   ]
  },
  {
   "cell_type": "code",
   "execution_count": 0,
   "metadata": {
    "application/vnd.databricks.v1+cell": {
     "cellMetadata": {
      "byteLimit": 2048000,
      "rowLimit": 10000
     },
     "inputWidgets": {},
     "nuid": "6e135445-e65b-4b53-aa66-61ba2d152ee1",
     "showTitle": true,
     "tableResultSettingsMap": {},
     "title": "Print all product names and prices using a loop."
    }
   },
   "outputs": [
    {
     "output_type": "stream",
     "name": "stdout",
     "output_type": "stream",
     "text": [
      "Laptop : 70000\nMouse : 550\nKeyboard : 1500\nMonitor : 12000\nWebcam : 3000\n"
     ]
    }
   ],
   "source": [
    "for key, value in products.items():\n",
    "    print(f\"{key} : {value}\")"
   ]
  }
 ],
 "metadata": {
  "application/vnd.databricks.v1+notebook": {
   "computePreferences": null,
   "dashboards": [],
   "environmentMetadata": {
    "base_environment": "",
    "environment_version": "1"
   },
   "inputWidgetPreferences": null,
   "language": "python",
   "notebookMetadata": {
    "pythonIndentUnit": 4
   },
   "notebookName": "Assignment Part2: Dicitonary Operations",
   "widgets": {}
  }
 },
 "nbformat": 4,
 "nbformat_minor": 0
}