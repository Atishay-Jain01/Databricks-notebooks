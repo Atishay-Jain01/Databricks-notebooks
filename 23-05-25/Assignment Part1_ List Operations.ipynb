{
 "cells": [
  {
   "cell_type": "code",
   "execution_count": 0,
   "metadata": {
    "application/vnd.databricks.v1+cell": {
     "cellMetadata": {
      "byteLimit": 2048000,
      "rowLimit": 10000
     },
     "inputWidgets": {},
     "nuid": "d44f9e8c-a5ce-48aa-a314-a58a0081f2e3",
     "showTitle": false,
     "tableResultSettingsMap": {},
     "title": "Total Sales"
    }
   },
   "outputs": [
    {
     "output_type": "stream",
     "name": "stdout",
     "output_type": "stream",
     "text": [
      "[250, 300, 400, 150, 500, 200]\n1800\n"
     ]
    }
   ],
   "source": [
    "sales = [250, 300, 400, 150, 500, 200]\n",
    "print(sales)\n",
    "print(sum(sales))"
   ]
  },
  {
   "cell_type": "code",
   "execution_count": 0,
   "metadata": {
    "application/vnd.databricks.v1+cell": {
     "cellMetadata": {
      "byteLimit": 2048000,
      "rowLimit": 10000
     },
     "inputWidgets": {},
     "nuid": "2dc235e5-8f22-40d3-b9d2-2a851d5b60c6",
     "showTitle": true,
     "tableResultSettingsMap": {},
     "title": "Average Sales Amount"
    }
   },
   "outputs": [
    {
     "output_type": "stream",
     "name": "stdout",
     "output_type": "stream",
     "text": [
      "300.0\n"
     ]
    }
   ],
   "source": [
    "print(sum(sales)/len(sales))"
   ]
  },
  {
   "cell_type": "code",
   "execution_count": 0,
   "metadata": {
    "application/vnd.databricks.v1+cell": {
     "cellMetadata": {
      "byteLimit": 2048000,
      "rowLimit": 10000
     },
     "inputWidgets": {},
     "nuid": "11c414ae-b193-490a-8df1-b549ffb2e3df",
     "showTitle": true,
     "tableResultSettingsMap": {},
     "title": "Sales Value above 300"
    }
   },
   "outputs": [
    {
     "output_type": "stream",
     "name": "stdout",
     "output_type": "stream",
     "text": [
      "[400, 500]\n"
     ]
    }
   ],
   "source": [
    "sales_above_300 = [sale for sale in sales if sale > 300]  \n",
    "print(sales_above_300) "
   ]
  },
  {
   "cell_type": "code",
   "execution_count": 0,
   "metadata": {
    "application/vnd.databricks.v1+cell": {
     "cellMetadata": {
      "byteLimit": 2048000,
      "rowLimit": 10000
     },
     "inputWidgets": {},
     "nuid": "9a530d11-4579-4c13-b84e-fe7924547d80",
     "showTitle": true,
     "tableResultSettingsMap": {},
     "title": "Add 350 to List"
    }
   },
   "outputs": [
    {
     "output_type": "stream",
     "name": "stdout",
     "output_type": "stream",
     "text": [
      "[250, 300, 400, 150, 500, 200, 350]\n"
     ]
    }
   ],
   "source": [
    "sales.append(350)\n",
    "print(sales)"
   ]
  },
  {
   "cell_type": "code",
   "execution_count": 0,
   "metadata": {
    "application/vnd.databricks.v1+cell": {
     "cellMetadata": {
      "byteLimit": 2048000,
      "rowLimit": 10000
     },
     "inputWidgets": {},
     "nuid": "43a0d7a6-9b4f-4994-85d9-293832318015",
     "showTitle": true,
     "tableResultSettingsMap": {},
     "title": "Sort in descending order"
    }
   },
   "outputs": [
    {
     "output_type": "stream",
     "name": "stdout",
     "output_type": "stream",
     "text": [
      "[500, 400, 350, 300, 250, 200, 150]\n"
     ]
    }
   ],
   "source": [
    "sales.sort(reverse = True)\n",
    "print(sales)"
   ]
  }
 ],
 "metadata": {
  "application/vnd.databricks.v1+notebook": {
   "computePreferences": null,
   "dashboards": [],
   "environmentMetadata": {
    "base_environment": "",
    "environment_version": "1"
   },
   "inputWidgetPreferences": null,
   "language": "python",
   "notebookMetadata": {
    "pythonIndentUnit": 4
   },
   "notebookName": "Assignment Part1: List Operations",
   "widgets": {}
  }
 },
 "nbformat": 4,
 "nbformat_minor": 0
}