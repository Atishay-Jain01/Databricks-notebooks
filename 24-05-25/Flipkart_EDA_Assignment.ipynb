{
 "cells": [
  {
   "cell_type": "markdown",
   "metadata": {
    "application/vnd.databricks.v1+cell": {
     "cellMetadata": {
      "byteLimit": 2048000,
      "rowLimit": 10000
     },
     "inputWidgets": {},
     "nuid": "ff039c57-72fa-4f8a-9d6b-98a8b631bc65",
     "showTitle": false,
     "tableResultSettingsMap": {},
     "title": ""
    }
   },
   "source": [
    "# Flipkart EDA assignment\n",
    "\n",
    "## TODO: Upload csv file before moving to next"
   ]
  },
  {
   "cell_type": "code",
   "execution_count": 0,
   "metadata": {
    "application/vnd.databricks.v1+cell": {
     "cellMetadata": {
      "byteLimit": 2048000,
      "rowLimit": 10000
     },
     "inputWidgets": {},
     "nuid": "f85ef81f-2729-4c6f-9e71-f6bc1b6a2e16",
     "showTitle": false,
     "tableResultSettingsMap": {},
     "title": ""
    }
   },
   "outputs": [],
   "source": [
    "from pyspark.sql import SparkSession\n",
    "from pyspark.sql.functions import *\n",
    "\n",
    "spark = SparkSession.builder.appName(\"Flipkart Data Engineering\").getOrCreate()\n",
    "file_path = '/FileStore/tables/Flipkart.csv'\n",
    "flipkart_df = spark.read.csv(file_path, header=True, inferSchema=True)"
   ]
  },
  {
   "cell_type": "code",
   "execution_count": 0,
   "metadata": {
    "application/vnd.databricks.v1+cell": {
     "cellMetadata": {
      "byteLimit": 2048000,
      "rowLimit": 10000
     },
     "inputWidgets": {},
     "nuid": "04e1f417-47f7-4c0f-9705-565eda51063a",
     "showTitle": false,
     "tableResultSettingsMap": {},
     "title": ""
    }
   },
   "outputs": [],
   "source": [
    "flipkart_df.printSchema()\n",
    "flipkart_df.count()"
   ]
  },
  {
   "cell_type": "code",
   "execution_count": 0,
   "metadata": {
    "application/vnd.databricks.v1+cell": {
     "cellMetadata": {
      "byteLimit": 2048000,
      "rowLimit": 10000
     },
     "inputWidgets": {},
     "nuid": "da7dcb8e-203d-406c-85ba-35260e705574",
     "showTitle": false,
     "tableResultSettingsMap": {},
     "title": ""
    }
   },
   "outputs": [],
   "source": [
    "flipkart_df.show(5)"
   ]
  },
  {
   "cell_type": "code",
   "execution_count": 0,
   "metadata": {
    "application/vnd.databricks.v1+cell": {
     "cellMetadata": {
      "byteLimit": 2048000,
      "rowLimit": 10000
     },
     "inputWidgets": {},
     "nuid": "073d6b31-c900-41a6-aa3f-ae38495448b8",
     "showTitle": true,
     "tableResultSettingsMap": {},
     "title": "Display all category names"
    }
   },
   "outputs": [],
   "source": [
    "flipkart_df.select(\"maincateg\").distinct().show()"
   ]
  },
  {
   "cell_type": "code",
   "execution_count": 0,
   "metadata": {
    "application/vnd.databricks.v1+cell": {
     "cellMetadata": {
      "byteLimit": 2048000,
      "rowLimit": 10000
     },
     "inputWidgets": {},
     "nuid": "bce154ae-ea22-4e83-aa68-a50e89a41a8c",
     "showTitle": true,
     "tableResultSettingsMap": {},
     "title": "Filter products with rating > 4 and more than 100 reviews"
    }
   },
   "outputs": [],
   "source": [
    "flipkart_df.select(\"id\", \"title\", \"Rating\", \"noreviews1\").where((flipkart_df[\"Rating\"] > 4) & (flipkart_df[\"noreviews1\"] > 100)).show()"
   ]
  },
  {
   "cell_type": "code",
   "execution_count": 0,
   "metadata": {
    "application/vnd.databricks.v1+cell": {
     "cellMetadata": {
      "byteLimit": 2048000,
      "rowLimit": 10000
     },
     "inputWidgets": {},
     "nuid": "5ea8891d-773f-432e-a72e-4692bd97fc47",
     "showTitle": true,
     "tableResultSettingsMap": {},
     "title": "Products in 'Men' category that are fulfilled"
    }
   },
   "outputs": [],
   "source": [
    "flipkart_df.select(\"title\", \"fulfilled1\").where((flipkart_df[\"maincateg\"] == 'Men') & (flipkart_df[\"fulfilled1\"] == 1)).show()"
   ]
  },
  {
   "cell_type": "code",
   "execution_count": 0,
   "metadata": {
    "application/vnd.databricks.v1+cell": {
     "cellMetadata": {
      "byteLimit": 2048000,
      "rowLimit": 10000
     },
     "inputWidgets": {},
     "nuid": "1be257d2-da3f-4ae7-b1ff-42ef6c42c3d3",
     "showTitle": true,
     "tableResultSettingsMap": {},
     "title": "Number of products per category"
    }
   },
   "outputs": [],
   "source": [
    "flipkart_df.groupBy(\"maincateg\").agg(count(\"*\").alias(\"number per category\")).show()\n",
    "\n",
    "flipkart_df.groupBy(\"maincateg\").count().withColumnRenamed(\"count\", \"Number per category\").show()"
   ]
  },
  {
   "cell_type": "code",
   "execution_count": 0,
   "metadata": {
    "application/vnd.databricks.v1+cell": {
     "cellMetadata": {
      "byteLimit": 2048000,
      "rowLimit": 10000
     },
     "inputWidgets": {},
     "nuid": "93ff00c4-69d0-46ba-ad68-3c43aaffadcc",
     "showTitle": true,
     "tableResultSettingsMap": {},
     "title": "Average rating per category"
    }
   },
   "outputs": [],
   "source": [
    "flipkart_df.groupBy(\"maincateg\").agg(avg(\"Rating\").alias(\"Average Rating per category\")).where(flipkart_df[\"maincateg\"] != 'null').show()"
   ]
  },
  {
   "cell_type": "code",
   "execution_count": 0,
   "metadata": {
    "application/vnd.databricks.v1+cell": {
     "cellMetadata": {
      "byteLimit": 2048000,
      "rowLimit": 10000
     },
     "inputWidgets": {},
     "nuid": "0cdf490d-3760-4c51-ad65-a4178ffab849",
     "showTitle": true,
     "tableResultSettingsMap": {},
     "title": "Category with highest average number of reviews"
    }
   },
   "outputs": [],
   "source": [
    "# Dsiplay Category with highest average number of reviews\n",
    "\n",
    "flipkart_df.groupBy(\"maincateg\").agg({\"noreviews1\": \"avg\"}) \\\n",
    "    .orderBy(\"avg(noreviews1)\", asc=False).show(1)"
   ]
  },
  {
   "cell_type": "code",
   "execution_count": 0,
   "metadata": {
    "application/vnd.databricks.v1+cell": {
     "cellMetadata": {
      "byteLimit": 2048000,
      "rowLimit": 10000
     },
     "inputWidgets": {},
     "nuid": "b4272bbe-8813-4eaf-a55d-35c01d621e30",
     "showTitle": true,
     "tableResultSettingsMap": {},
     "title": "Top 5 products with highest price. display product name and price"
    }
   },
   "outputs": [],
   "source": [
    "flipkart_df.select(\"title\", \"actprice1\").orderBy(desc(\"actprice1\")).limit(5).show()"
   ]
  },
  {
   "cell_type": "code",
   "execution_count": 0,
   "metadata": {
    "application/vnd.databricks.v1+cell": {
     "cellMetadata": {
      "byteLimit": 2048000,
      "rowLimit": 10000
     },
     "inputWidgets": {},
     "nuid": "9353cba2-7ba1-4189-841a-84ed79cdec43",
     "showTitle": true,
     "tableResultSettingsMap": {},
     "title": "Min, max, and avg price per category"
    }
   },
   "outputs": [],
   "source": [
    "flipkart_df.groupBy(\"maincateg\").agg(min(\"actprice1\").alias(\"Min_Price\"), max(\"actprice1\").alias(\"Max_Price\"), avg(\"actprice1\").alias(\"Avg_Price\"),).show()"
   ]
  },
  {
   "cell_type": "code",
   "execution_count": 0,
   "metadata": {
    "application/vnd.databricks.v1+cell": {
     "cellMetadata": {
      "byteLimit": 2048000,
      "rowLimit": 10000
     },
     "inputWidgets": {},
     "nuid": "c51e0a9a-e452-41b2-9405-308d4e18f746",
     "showTitle": true,
     "tableResultSettingsMap": {},
     "title": "Number of nulls in each column"
    }
   },
   "outputs": [],
   "source": [
    "#IDK\n",
    "# Display number of nulls in each column\n",
    "\n",
    "null_counts = flipkart_df.select([\n",
    "    sum(when(col(c).isNull(), 1).otherwise(0)).alias(c)\n",
    "    for c in flipkart_df.columns\n",
    "])\n",
    "\n",
    "null_counts.show()"
   ]
  },
  {
   "cell_type": "code",
   "execution_count": 0,
   "metadata": {
    "application/vnd.databricks.v1+cell": {
     "cellMetadata": {
      "byteLimit": 2048000,
      "rowLimit": 10000
     },
     "inputWidgets": {},
     "nuid": "c8c8a3b3-3917-4e67-a0a2-0afebfcc4736",
     "showTitle": true,
     "tableResultSettingsMap": {},
     "title": "Category - number of fulfilled, and unfulfilled"
    }
   },
   "outputs": [],
   "source": [
    "flipkart_df.groupBy(\"maincateg\") \\\n",
    "    .agg(count(when(flipkart_df[\"fulfilled1\"] == 1, True)).alias(\"fulfilled_count\"), \\\n",
    "        count(when(flipkart_df[\"fulfilled1\"] == 0, True)).alias(\"unfulfilled_count\"))\\\n",
    "    .show()"
   ]
  },
  {
   "cell_type": "code",
   "execution_count": 0,
   "metadata": {
    "application/vnd.databricks.v1+cell": {
     "cellMetadata": {
      "byteLimit": 2048000,
      "rowLimit": 10000
     },
     "inputWidgets": {},
     "nuid": "a3415a3d-43c4-4e6a-acc7-e6afe16276da",
     "showTitle": true,
     "tableResultSettingsMap": {},
     "title": "Count of products per category"
    }
   },
   "outputs": [],
   "source": [
    "flipkart_df.groupBy(\"maincateg\").count().withColumnRenamed(\"count\", \"Number per category\").show()"
   ]
  },
  {
   "cell_type": "code",
   "execution_count": 0,
   "metadata": {
    "application/vnd.databricks.v1+cell": {
     "cellMetadata": {
      "byteLimit": 2048000,
      "rowLimit": 10000
     },
     "inputWidgets": {},
     "nuid": "85467739-d609-44d2-b40f-0e7b6657bea1",
     "showTitle": true,
     "tableResultSettingsMap": {},
     "title": "Average rating per category"
    }
   },
   "outputs": [],
   "source": [
    "flipkart_df.groupBy(\"maincateg\").agg(avg(\"Rating\").alias(\"Average Rating per category\")).where(flipkart_df[\"maincateg\"] != 'null').show()"
   ]
  },
  {
   "cell_type": "code",
   "execution_count": 0,
   "metadata": {
    "application/vnd.databricks.v1+cell": {
     "cellMetadata": {
      "byteLimit": 2048000,
      "rowLimit": 10000
     },
     "inputWidgets": {},
     "nuid": "6eba27e0-bc8a-46df-9bed-4453f6ed45c5",
     "showTitle": true,
     "tableResultSettingsMap": {},
     "title": "Category with highest average number of reviews"
    }
   },
   "outputs": [],
   "source": [
    "# Group by category and calculate average number of reviews\n",
    "avg_reviews_by_category = flipkart_df.groupBy(\"maincateg\").agg(\n",
    "    avg(\"noreviews1\").alias(\"Avg_Reviews\")\n",
    ")\n",
    "\n",
    "# Get the category with the highest average reviews\n",
    "top_category = avg_reviews_by_category.orderBy(\"Avg_Reviews\", ascending=False).limit(1).show(truncate=False)"
   ]
  },
  {
   "cell_type": "code",
   "execution_count": 0,
   "metadata": {
    "application/vnd.databricks.v1+cell": {
     "cellMetadata": {
      "byteLimit": 2048000,
      "rowLimit": 10000
     },
     "inputWidgets": {},
     "nuid": "c001b8e8-6be4-4119-9a78-70778d6924d5",
     "showTitle": true,
     "tableResultSettingsMap": {},
     "title": "Bar chart of product count per category"
    }
   },
   "outputs": [],
   "source": [
    "flipkart_df.groupBy(\"maincateg\").count().withColumnRenamed(\"count\", \"Number per category\").display()\n",
    "\n",
    "# Use Databricks UI to visualize this as a bar chart"
   ]
  },
  {
   "cell_type": "code",
   "execution_count": 0,
   "metadata": {
    "application/vnd.databricks.v1+cell": {
     "cellMetadata": {
      "byteLimit": 2048000,
      "rowLimit": 10000
     },
     "inputWidgets": {},
     "nuid": "65523498-d55d-4d54-ad4c-176710c38055",
     "showTitle": false,
     "tableResultSettingsMap": {},
     "title": ""
    }
   },
   "outputs": [],
   "source": [
    "# Bar chart of average rating per category\n",
    "flipkart_df.groupBy(\"maincateg\").agg(avg(\"Rating\").alias(\"Average Rating per category\")).where(flipkart_df[\"maincateg\"] != 'null').show()"
   ]
  },
  {
   "cell_type": "code",
   "execution_count": 0,
   "metadata": {
    "application/vnd.databricks.v1+cell": {
     "cellMetadata": {
      "byteLimit": 2048000,
      "rowLimit": 10000
     },
     "inputWidgets": {},
     "nuid": "15834ac3-ae46-4f29-b638-331b68d137f1",
     "showTitle": false,
     "tableResultSettingsMap": {},
     "title": ""
    }
   },
   "outputs": [],
   "source": [
    "# Display Bar chart of total number of reviews per category\n",
    "total_reviews_by_category = display(flipkart_df.groupBy(\"maincateg\").agg(\n",
    "    sum(\"noreviews1\").alias(\"Total_Reviews\"))\n",
    ")\n"
   ]
  },
  {
   "cell_type": "code",
   "execution_count": 0,
   "metadata": {
    "application/vnd.databricks.v1+cell": {
     "cellMetadata": {
      "byteLimit": 2048000,
      "rowLimit": 10000
     },
     "inputWidgets": {},
     "nuid": "5f5b6c97-839b-4c3a-a8c5-4533aebf793e",
     "showTitle": false,
     "tableResultSettingsMap": {},
     "title": ""
    }
   },
   "outputs": [],
   "source": [
    "# Display product name and 5 star rating for those products which have highest 5 star rating\n",
    "display(flipkart_df.filter(flipkart_df[\"star_5f\"] > 0).select(\"title\", \"star_5f\").orderBy(\"star_5f\", ascending=False))"
   ]
  }
 ],
 "metadata": {
  "application/vnd.databricks.v1+notebook": {
   "computePreferences": null,
   "dashboards": [],
   "environmentMetadata": null,
   "inputWidgetPreferences": null,
   "language": "python",
   "notebookMetadata": {
    "pythonIndentUnit": 4
   },
   "notebookName": "Flipkart_EDA_Assignment",
   "widgets": {}
  },
  "kernelspec": {
   "display_name": "Python 3",
   "language": "python",
   "name": "python3"
  },
  "language_info": {
   "name": "python",
   "version": "3.8"
  }
 },
 "nbformat": 4,
 "nbformat_minor": 0
}