{
 "cells": [
  {
   "cell_type": "code",
   "execution_count": 0,
   "metadata": {
    "application/vnd.databricks.v1+cell": {
     "cellMetadata": {
      "byteLimit": 2048000,
      "rowLimit": 10000
     },
     "inputWidgets": {},
     "nuid": "5736a906-b1b4-49aa-a7f4-f4b3880f34ec",
     "showTitle": true,
     "tableResultSettingsMap": {},
     "title": "Population vs Price DataSet"
    }
   },
   "outputs": [
    {
     "output_type": "stream",
     "name": "stdout",
     "output_type": "stream",
     "text": [
      "root\n |-- 2014 rank: integer (nullable = true)\n |-- City: string (nullable = true)\n |-- State: string (nullable = true)\n |-- State Code: string (nullable = true)\n |-- 2014 Population estimate: integer (nullable = true)\n |-- 2015 median sales price: double (nullable = true)\n\n+---------+-------------+-------+----------+------------------------+-----------------------+\n|2014 rank|         City|  State|State Code|2014 Population estimate|2015 median sales price|\n+---------+-------------+-------+----------+------------------------+-----------------------+\n|      101|   Birmingham|Alabama|        AL|                  212247|                  162.9|\n|      125|   Huntsville|Alabama|        AL|                  188226|                  157.7|\n|      122|       Mobile|Alabama|        AL|                  194675|                  122.5|\n|      114|   Montgomery|Alabama|        AL|                  200481|                  129.0|\n|       64|Anchorage[19]| Alaska|        AK|                  301010|                   null|\n+---------+-------------+-------+----------+------------------------+-----------------------+\nonly showing top 5 rows\n\n"
     ]
    }
   ],
   "source": [
    "# Load the dataset from DBFS (Databricks Filesystem)\n",
    "file_path = \"/databricks-datasets/samples/population-vs-price/data_geo.csv\"\n",
    "df = spark.read.csv(file_path, header=True, inferSchema=True)\n",
    "df.printSchema()\n",
    "df.show(5)"
   ]
  },
  {
   "cell_type": "code",
   "execution_count": 0,
   "metadata": {
    "application/vnd.databricks.v1+cell": {
     "cellMetadata": {
      "byteLimit": 2048000,
      "rowLimit": 10000
     },
     "inputWidgets": {},
     "nuid": "ad4201a7-56fa-4927-8ee8-4c777a03d639",
     "showTitle": true,
     "tableResultSettingsMap": {},
     "title": "Show Top 5 only"
    }
   },
   "outputs": [
    {
     "output_type": "stream",
     "name": "stdout",
     "output_type": "stream",
     "text": [
      "+-------------+-------+----------+------------------------+-----------------------+\n|         City|  State|State Code|2014 Population estimate|2015 median sales price|\n+-------------+-------+----------+------------------------+-----------------------+\n|   Birmingham|Alabama|        AL|                  212247|                  162.9|\n|   Huntsville|Alabama|        AL|                  188226|                  157.7|\n|       Mobile|Alabama|        AL|                  194675|                  122.5|\n|   Montgomery|Alabama|        AL|                  200481|                  129.0|\n|Anchorage[19]| Alaska|        AK|                  301010|                   null|\n+-------------+-------+----------+------------------------+-----------------------+\nonly showing top 5 rows\n\n"
     ]
    }
   ],
   "source": [
    "# Select relevant columns for analysis\n",
    "df_selected = df.select(\n",
    "    \"City\", \"State\", \"State Code\", \n",
    "    \"2014 Population estimate\", \"2015 median sales price\"\n",
    ")\n",
    "df_selected.show(5)"
   ]
  },
  {
   "cell_type": "code",
   "execution_count": 0,
   "metadata": {
    "application/vnd.databricks.v1+cell": {
     "cellMetadata": {
      "byteLimit": 2048000,
      "rowLimit": 10000
     },
     "inputWidgets": {},
     "nuid": "1d76e3bb-345f-4825-8784-bfb1ab9e4a8d",
     "showTitle": true,
     "tableResultSettingsMap": {},
     "title": "Population in Desc Order - 10 highest"
    }
   },
   "outputs": [
    {
     "output_type": "display_data",
     "data": {
      "text/html": [
       "<style scoped>\n",
       "  .table-result-container {\n",
       "    max-height: 300px;\n",
       "    overflow: auto;\n",
       "  }\n",
       "  table, th, td {\n",
       "    border: 1px solid black;\n",
       "    border-collapse: collapse;\n",
       "  }\n",
       "  th, td {\n",
       "    padding: 5px;\n",
       "  }\n",
       "  th {\n",
       "    text-align: left;\n",
       "  }\n",
       "</style><div class='table-result-container'><table class='table-result'><thead style='background-color: white'><tr><th>City</th><th>2014 Population estimate</th></tr></thead><tbody><tr><td>New York[6]</td><td>8491079</td></tr><tr><td>Los Angeles</td><td>3928864</td></tr><tr><td>Chicago</td><td>2722389</td></tr><tr><td>Houston[7]</td><td>2239558</td></tr><tr><td>Philadelphia[8]</td><td>1560297</td></tr><tr><td>Phoenix</td><td>1537058</td></tr><tr><td>San Antonio</td><td>1436697</td></tr><tr><td>San Diego</td><td>1381069</td></tr><tr><td>Dallas</td><td>1281047</td></tr><tr><td>San Jose</td><td>1015785</td></tr></tbody></table></div>"
      ]
     },
     "metadata": {
      "application/vnd.databricks.v1+output": {
       "addedWidgets": {},
       "aggData": [],
       "aggError": "",
       "aggOverflow": false,
       "aggSchema": [],
       "aggSeriesLimitReached": false,
       "aggType": "",
       "arguments": {},
       "columnCustomDisplayInfos": {},
       "data": [
        [
         "New York[6]",
         8491079
        ],
        [
         "Los Angeles",
         3928864
        ],
        [
         "Chicago",
         2722389
        ],
        [
         "Houston[7]",
         2239558
        ],
        [
         "Philadelphia[8]",
         1560297
        ],
        [
         "Phoenix",
         1537058
        ],
        [
         "San Antonio",
         1436697
        ],
        [
         "San Diego",
         1381069
        ],
        [
         "Dallas",
         1281047
        ],
        [
         "San Jose",
         1015785
        ]
       ],
       "datasetInfos": [],
       "dbfsResultPath": null,
       "isJsonSchema": true,
       "metadata": {},
       "overflow": false,
       "plotOptions": {
        "customPlotOptions": {},
        "displayType": "table",
        "pivotAggregation": null,
        "pivotColumns": null,
        "xColumns": null,
        "yColumns": null
       },
       "removedWidgets": [],
       "schema": [
        {
         "metadata": "{}",
         "name": "City",
         "type": "\"string\""
        },
        {
         "metadata": "{}",
         "name": "2014 Population estimate",
         "type": "\"integer\""
        }
       ],
       "type": "table"
      }
     },
     "output_type": "display_data"
    }
   ],
   "source": [
    "df_selected = df.select(\"City\",\"2014 Population estimate\").orderBy(\"2014 Population estimate\", ascending=False).limit(10)  \n",
    "df_selected.display()"
   ]
  },
  {
   "cell_type": "code",
   "execution_count": 0,
   "metadata": {
    "application/vnd.databricks.v1+cell": {
     "cellMetadata": {
      "byteLimit": 2048000,
      "rowLimit": 10000
     },
     "inputWidgets": {},
     "nuid": "b06966f9-f5bd-4f94-8632-caea90a79588",
     "showTitle": true,
     "tableResultSettingsMap": {},
     "title": "Average Median Sales Price"
    }
   },
   "outputs": [
    {
     "output_type": "stream",
     "name": "stdout",
     "output_type": "stream",
     "text": [
      "+--------------------+--------------------------+\n|               State|Average Median Sales Price|\n+--------------------+--------------------------+\n|                Utah|                     243.3|\n|             Hawai'i|                     699.3|\n|           Minnesota|                     209.4|\n|                Ohio|        112.86666666666667|\n|            Arkansas|                     131.8|\n|              Oregon|        231.53333333333333|\n|               Texas|         173.4777777777778|\n|        North Dakota|                     180.0|\n|        Pennsylvania|                     183.8|\n|         Connecticut|        250.13333333333333|\n|            Nebraska|        149.14999999999998|\n|              Nevada|                     237.3|\n|          Washington|        266.29999999999995|\n|            Illinois|        122.87499999999999|\n|            Oklahoma|                     145.1|\n|District of Columbia|                     367.8|\n|              Alaska|                      null|\n|          New Mexico|                     172.2|\n|            Missouri|                    134.75|\n|        Rhode Island|                     233.3|\n+--------------------+--------------------------+\nonly showing top 20 rows\n\n"
     ]
    }
   ],
   "source": [
    "from pyspark.sql import SparkSession  \n",
    "from pyspark.sql.functions import avg  \n",
    "\n",
    "df_avg_sales_price = df.groupBy(\"State\").agg(avg(\"2015 median sales price\").alias(\"Average Median Sales Price\"))  \n",
    "df_avg_sales_price.show()  "
   ]
  },
  {
   "cell_type": "code",
   "execution_count": 0,
   "metadata": {
    "application/vnd.databricks.v1+cell": {
     "cellMetadata": {
      "byteLimit": 2048000,
      "rowLimit": 10000
     },
     "inputWidgets": {},
     "nuid": "39bc4363-8383-4f22-9ba2-38c91d3ecc1c",
     "showTitle": true,
     "tableResultSettingsMap": {},
     "title": "Population > 100000"
    }
   },
   "outputs": [
    {
     "output_type": "stream",
     "name": "stdout",
     "output_type": "stream",
     "text": [
      "+---------------+------------------------+\n|           City|2014 Population estimate|\n+---------------+------------------------+\n|    New York[6]|                 8491079|\n|    Los Angeles|                 3928864|\n|        Chicago|                 2722389|\n|     Houston[7]|                 2239558|\n|Philadelphia[8]|                 1560297|\n|        Phoenix|                 1537058|\n|    San Antonio|                 1436697|\n|      San Diego|                 1381069|\n|         Dallas|                 1281047|\n|       San Jose|                 1015785|\n+---------------+------------------------+\n\n"
     ]
    }
   ],
   "source": [
    "df_selected.filter(df_selected[\"2014 Population estimate\"] > 100000).show()  "
   ]
  },
  {
   "cell_type": "code",
   "execution_count": 0,
   "metadata": {
    "application/vnd.databricks.v1+cell": {
     "cellMetadata": {
      "byteLimit": 2048000,
      "rowLimit": 10000
     },
     "inputWidgets": {},
     "nuid": "d91e517c-e610-4f7e-8690-89e561567555",
     "showTitle": true,
     "tableResultSettingsMap": {},
     "title": "Median Sales Price = null or 0"
    }
   },
   "outputs": [
    {
     "output_type": "stream",
     "name": "stdout",
     "output_type": "stream",
     "text": [
      "+---------+-------------+----------+----------+------------------------+-----------------------+\n|2014 rank|         City|     State|State Code|2014 Population estimate|2015 median sales price|\n+---------+-------------+----------+----------+------------------------+-----------------------+\n|       64|Anchorage[19]|    Alaska|        AK|                  301010|                   null|\n|       78|     Chandler|   Arizona|        AZ|                  254276|                   null|\n|       86|  Gilbert[20]|   Arizona|        AZ|                  239277|                   null|\n|       88|     Glendale|   Arizona|        AZ|                  237517|                   null|\n|       38|         Mesa|   Arizona|        AZ|                  464704|                   null|\n|      148|       Peoria|   Arizona|        AZ|                  166934|                   null|\n|       95|   Scottsdale|   Arizona|        AZ|                  230512|                   null|\n|      215|     Surprise|   Arizona|        AZ|                  126275|                   null|\n|      142|        Tempe|   Arizona|        AZ|                  172816|                   null|\n|      261|      Antioch|California|        CA|                  108930|                   null|\n|       52|  Bakersfield|California|        CA|                  368759|                   null|\n|      227|     Berkeley|California|        CA|                  118853|                   null|\n|      276|      Burbank|California|        CA|                  105368|                   null|\n|      245|     Carlsbad|California|        CA|                  112299|                   null|\n|       75|  Chula Vista|California|        CA|                  260988|                   null|\n|      291|       Clovis|California|        CA|                  102189|                   null|\n|      212|      Concord|California|        CA|                  127522|                   null|\n|      153|       Corona|California|        CA|                  161486|                   null|\n|      243|   Costa Mesa|California|        CA|                  112784|                   null|\n|      274|    Daly City|California|        CA|                  106094|                   null|\n+---------+-------------+----------+----------+------------------------+-----------------------+\nonly showing top 20 rows\n\n"
     ]
    }
   ],
   "source": [
    "df.filter((df[\"2015 median sales price\"].isNull()) | (df[\"2015 median sales price\"] == 0)).show()  "
   ]
  }
 ],
 "metadata": {
  "application/vnd.databricks.v1+notebook": {
   "computePreferences": null,
   "dashboards": [],
   "environmentMetadata": {
    "base_environment": "",
    "environment_version": "1"
   },
   "inputWidgetPreferences": null,
   "language": "python",
   "notebookMetadata": {
    "pythonIndentUnit": 4
   },
   "notebookName": "Class2 Demo PySpark2 - pyspark1(cont.)",
   "widgets": {}
  }
 },
 "nbformat": 4,
 "nbformat_minor": 0
}